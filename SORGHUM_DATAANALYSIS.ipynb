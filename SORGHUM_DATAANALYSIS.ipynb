{
 "cells": [
  {
   "cell_type": "code",
   "execution_count": 24,
   "metadata": {},
   "outputs": [
    {
     "name": "stdout",
     "output_type": "stream",
     "text": [
      "                      Ag Code                     County  \\\n",
      "Ag Distric                                                 \n",
      "BLACKLANDS               40.0                        NaN   \n",
      "COASTAL BEND             82.0                        NaN   \n",
      "EDWARDS PLATEAU          70.0                        NaN   \n",
      "LOWER VALLEY             97.0                        NaN   \n",
      "NORTHERN HIGH PLAINS     11.0                        NaN   \n",
      "...                       ...                        ...   \n",
      "UPPER COAST              90.0  OTHER (COMBINED) COUNTIES   \n",
      "UPPER COAST              90.0                   VICTORIA   \n",
      "UPPER COAST              90.0                    WHARTON   \n",
      "NaN                      99.0             OTHER COUNTIES   \n",
      "NaN                       NaN                        NaN   \n",
      "\n",
      "                      SORGHUM GRAIN - YIELD, MEASURED IN BU / ACRE 2019  \\\n",
      "Ag Distric                                                                \n",
      "BLACKLANDS                                                         61.0   \n",
      "COASTAL BEND                                                       93.0   \n",
      "EDWARDS PLATEAU                                                    55.8   \n",
      "LOWER VALLEY                                                       50.8   \n",
      "NORTHERN HIGH PLAINS                                               53.9   \n",
      "...                                                                 ...   \n",
      "UPPER COAST                                                        83.2   \n",
      "UPPER COAST                                                        81.5   \n",
      "UPPER COAST                                                        89.0   \n",
      "NaN                                                                 NaN   \n",
      "NaN                                                                61.0   \n",
      "\n",
      "                      SORGHUM, GRAIN - YIELD, MEASURED IN BU / ACRE 2020  \n",
      "Ag Distric                                                                \n",
      "BLACKLANDS                                                          NaN   \n",
      "COASTAL BEND                                                        NaN   \n",
      "EDWARDS PLATEAU                                                     NaN   \n",
      "LOWER VALLEY                                                        NaN   \n",
      "NORTHERN HIGH PLAINS                                                NaN   \n",
      "...                                                                 ...   \n",
      "UPPER COAST                                                         NaN   \n",
      "UPPER COAST                                                        93.9   \n",
      "UPPER COAST                                                       130.4   \n",
      "NaN                                                                53.6   \n",
      "NaN                                                                63.0   \n",
      "\n",
      "[90 rows x 4 columns]\n"
     ]
    }
   ],
   "source": [
    "import pandas as pd\n",
    "data = pd.read_csv(\"sorgum_productionTexas.csv\", delimiter = \",\",header = 0,names = [\"Ag Distric\", \"Ag Code\",'County',\"SORGHUM GRAIN - YIELD, MEASURED IN BU / ACRE 2019\" ,'SORGHUM, GRAIN - YIELD, MEASURED IN BU / ACRE 2020'],index_col=0)\n",
    "#names = [\"Program\", \"Period\",'Geo Level',\"State\",\"State ANSI\",\"Ag District\",\"Ag Disctrict Code\",\"County\",'Community','Sorghum-Acres planted 2019','Sorghum' ,'CORN, GRAIN - YIELD, MEASURED IN BU / ACRE 2021'],index_col=0\n",
    "#['1','2','3','4','5','6','7','8','9','10','11','12','13','14','15','16','17','18','19','20','21','22','23','24','25']\n",
    "print(data)"
   ]
  },
  {
   "cell_type": "code",
   "execution_count": 25,
   "metadata": {},
   "outputs": [
    {
     "name": "stdout",
     "output_type": "stream",
     "text": [
      "                      SORGHUM GRAIN - YIELD, MEASURED IN BU / ACRE 2019  \\\n",
      "Ag Distric                                                                \n",
      "NORTHERN HIGH PLAINS                                               53.9   \n",
      "NORTHERN HIGH PLAINS                                               40.3   \n",
      "NORTHERN HIGH PLAINS                                               44.9   \n",
      "NORTHERN HIGH PLAINS                                                NaN   \n",
      "NORTHERN HIGH PLAINS                                               46.1   \n",
      "NORTHERN HIGH PLAINS                                               55.2   \n",
      "NORTHERN HIGH PLAINS                                                NaN   \n",
      "NORTHERN HIGH PLAINS                                               47.3   \n",
      "NORTHERN HIGH PLAINS                                               42.9   \n",
      "NORTHERN HIGH PLAINS                                               68.4   \n",
      "NORTHERN HIGH PLAINS                                               59.5   \n",
      "NORTHERN HIGH PLAINS                                               41.7   \n",
      "NORTHERN HIGH PLAINS                                               54.6   \n",
      "NORTHERN HIGH PLAINS                                               40.9   \n",
      "NORTHERN HIGH PLAINS                                               45.7   \n",
      "NORTHERN HIGH PLAINS                                               71.1   \n",
      "NORTHERN HIGH PLAINS                                               45.0   \n",
      "SOUTHERN HIGH PLAINS                                               37.7   \n",
      "SOUTHERN HIGH PLAINS                                                NaN   \n",
      "SOUTHERN HIGH PLAINS                                               31.0   \n",
      "SOUTHERN HIGH PLAINS                                               35.7   \n",
      "SOUTHERN HIGH PLAINS                                               32.0   \n",
      "SOUTHERN HIGH PLAINS                                               35.7   \n",
      "SOUTHERN HIGH PLAINS                                                NaN   \n",
      "SOUTHERN HIGH PLAINS                                                NaN   \n",
      "SOUTHERN HIGH PLAINS                                               46.7   \n",
      "SOUTHERN HIGH PLAINS                                               38.2   \n",
      "\n",
      "                      SORGHUM, GRAIN - YIELD, MEASURED IN BU / ACRE 2020  \n",
      "Ag Distric                                                                \n",
      "NORTHERN HIGH PLAINS                                                NaN   \n",
      "NORTHERN HIGH PLAINS                                               46.5   \n",
      "NORTHERN HIGH PLAINS                                               59.2   \n",
      "NORTHERN HIGH PLAINS                                               66.3   \n",
      "NORTHERN HIGH PLAINS                                               79.9   \n",
      "NORTHERN HIGH PLAINS                                               44.8   \n",
      "NORTHERN HIGH PLAINS                                               76.6   \n",
      "NORTHERN HIGH PLAINS                                                NaN   \n",
      "NORTHERN HIGH PLAINS                                                NaN   \n",
      "NORTHERN HIGH PLAINS                                               89.5   \n",
      "NORTHERN HIGH PLAINS                                               49.0   \n",
      "NORTHERN HIGH PLAINS                                               47.7   \n",
      "NORTHERN HIGH PLAINS                                                NaN   \n",
      "NORTHERN HIGH PLAINS                                               52.6   \n",
      "NORTHERN HIGH PLAINS                                               29.9   \n",
      "NORTHERN HIGH PLAINS                                               96.3   \n",
      "NORTHERN HIGH PLAINS                                                NaN   \n",
      "SOUTHERN HIGH PLAINS                                                NaN   \n",
      "SOUTHERN HIGH PLAINS                                               21.6   \n",
      "SOUTHERN HIGH PLAINS                                                NaN   \n",
      "SOUTHERN HIGH PLAINS                                                NaN   \n",
      "SOUTHERN HIGH PLAINS                                                NaN   \n",
      "SOUTHERN HIGH PLAINS                                               34.5   \n",
      "SOUTHERN HIGH PLAINS                                               55.1   \n",
      "SOUTHERN HIGH PLAINS                                               43.1   \n",
      "SOUTHERN HIGH PLAINS                                                NaN   \n",
      "SOUTHERN HIGH PLAINS                                                NaN   \n"
     ]
    }
   ],
   "source": [
    "hereford_data = data.loc[['NORTHERN HIGH PLAINS',\"SOUTHERN HIGH PLAINS\"],[\"SORGHUM GRAIN - YIELD, MEASURED IN BU / ACRE 2019\" ,'SORGHUM, GRAIN - YIELD, MEASURED IN BU / ACRE 2020']]\n",
    "print(hereford_data)"
   ]
  }
 ],
 "metadata": {
  "kernelspec": {
   "display_name": "Python 3.10.6 64-bit",
   "language": "python",
   "name": "python3"
  },
  "language_info": {
   "codemirror_mode": {
    "name": "ipython",
    "version": 3
   },
   "file_extension": ".py",
   "mimetype": "text/x-python",
   "name": "python",
   "nbconvert_exporter": "python",
   "pygments_lexer": "ipython3",
   "version": "3.10.6"
  },
  "orig_nbformat": 4,
  "vscode": {
   "interpreter": {
    "hash": "aee8b7b246df8f9039afb4144a1f6fd8d2ca17a180786b69acc140d282b71a49"
   }
  }
 },
 "nbformat": 4,
 "nbformat_minor": 2
}
